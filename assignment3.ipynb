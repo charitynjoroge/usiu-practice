{
 "cells": [
  {
   "cell_type": "code",
   "execution_count": null,
   "metadata": {},
   "outputs": [
    {
     "name": "stdout",
     "output_type": "stream",
     "text": [
      "[10, 20, 30]\n",
      "[40, 50]\n",
      "[20, 30, 40, 50]\n",
      "[10, 20, 30, 40]\n",
      "[20, 30, 40]\n",
      "I lov\n",
      "syadrutas no seivom gnihctaw evol I\n",
      "Ilv acigmve nstras\n",
      "love\n",
      "ays\n",
      "[50, 40, 30, 20, 10]\n",
      "Io ti vsnary\n",
      "30\n",
      " love watching movies on saturday\n",
      "[30, 40, 50]\n"
     ]
    }
   ],
   "source": [
    "#given the list L1\n",
    "L1 = [10,20,30,40,50]\n",
    "\n",
    "V = L1[0:3] #prints the first three elements\n",
    "print(V)\n",
    "\n",
    "W = L1[-2:] #prints the last two elements\n",
    "print(W)\n",
    "\n",
    "X = L1[1:] #print all the elements except the first one \n",
    "print(X) \n",
    "\n",
    "Y = L1[0:-1] #print all the elements except the last one \n",
    "print(Y)\n",
    "\n",
    "Z = L1[1:4] #print the elements from index 1 to 3 (inclusive) of L1\n",
    "print(Z)\n",
    "\n",
    "#choosing own string \n",
    "a = \"I love watching movies on saturdays\"\n",
    "\n",
    "A = a[0:5] #prints the first five characters\n",
    "print(A)\n",
    "\n",
    "B = a[::-1] #prints the string in reverse\n",
    "print(B)\n",
    "\n",
    "C = a[::2] #prints every second character\n",
    "print(C)\n",
    "\n",
    "D = a[2:6] #prints the characters from index 2 to 5 (inclusive)\n",
    "print(D)\n",
    "\n",
    "E = a[-3:] #prints the last three characters\n",
    "print(E)\n",
    "\n",
    "F = L1[::-1] #prints the list in reverse\n",
    "print(F)\n",
    "\n",
    "G = a[::3] #prints every third character\n",
    "print(G)\n",
    "\n",
    "H = L1[len(L1) // 2] #prints the middle element of the list\n",
    "print(H) \n",
    "\n",
    "I = a[1:-1] #prints the string without the first and last character\n",
    "print(I) \n",
    "\n",
    "J = [x for x in L1 if x > 20] #prints all the elements in the list that are greater than 20\n",
    "print(J)\n",
    "\n",
    "\n"
   ]
  }
 ],
 "metadata": {
  "kernelspec": {
   "display_name": "Python 3",
   "language": "python",
   "name": "python3"
  },
  "language_info": {
   "codemirror_mode": {
    "name": "ipython",
    "version": 3
   },
   "file_extension": ".py",
   "mimetype": "text/x-python",
   "name": "python",
   "nbconvert_exporter": "python",
   "pygments_lexer": "ipython3",
   "version": "3.12.3"
  }
 },
 "nbformat": 4,
 "nbformat_minor": 2
}
