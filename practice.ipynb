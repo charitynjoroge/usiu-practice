{
 "cells": [
  {
   "cell_type": "code",
   "execution_count": 9,
   "metadata": {},
   "outputs": [
    {
     "name": "stdout",
     "output_type": "stream",
     "text": [
      "Average GPA: 3.09\n",
      "Welcome to the GPA Predictor!\n"
     ]
    },
    {
     "name": "stdout",
     "output_type": "stream",
     "text": [
      "Study hours out of range.\n"
     ]
    }
   ],
   "source": [
    "# Sample dataset: study hours and corresponding GPA\n",
    "data = {\n",
    "    \"0-2\": [2.0, 2.1, 2.2],\n",
    "    \"2-4\": [2.4, 2.6, 2.8],\n",
    "    \"4-6\": [3.0, 3.1, 3.3],\n",
    "    \"6-8\": [3.4, 3.5, 3.6],\n",
    "    \"8-10\": [3.7, 3.8, 3.9],\n",
    "    \"10-12\": [4.0]\n",
    "}\n",
    "\n",
    "# Calculate average GPA for different study hours\n",
    "def calculate_average_gpa(data):\n",
    "    total_gpa = sum(sum(gpa_list) for gpa_list in data.values())  # Sum all GPA values\n",
    "    total_entries = sum(len(gpa_list) for gpa_list in data.values())  # Count total GPA entries\n",
    "    average_gpa = total_gpa / total_entries\n",
    "    return average_gpa\n",
    "\n",
    "average_gpa = calculate_average_gpa(data)\n",
    "print(f\"Average GPA: {average_gpa:.2f}\")\n",
    "\n",
    "# Convert string range keys to numeric ranges\n",
    "def parse_range(range_str):\n",
    "    \"\"\"Convert a range string like '0-2' to a tuple (0, 2).\"\"\"\n",
    "    return tuple(map(int, range_str.split('-')))\n",
    "\n",
    "# Predict GPA for a given number of study hours\n",
    "def predict_gpa(study_hours):\n",
    "    if study_hours < 0:\n",
    "        return \"Study hours must be at least 0.\"\n",
    "    \n",
    "    # Find the closest lower and upper study hours\n",
    "    lower_hours = None\n",
    "    upper_hours = None\n",
    "    lower_gpa = None\n",
    "    upper_gpa = None\n",
    "\n",
    "    for range_str, gpas in data.items():\n",
    "        lower, upper = parse_range(range_str)\n",
    "        avg_gpa = sum(gpas) / len(gpas)  # Average GPA for that range\n",
    "        \n",
    "        if lower <= study_hours <= upper:\n",
    "            return avg_gpa  # Direct match\n",
    "\n",
    "        if study_hours > upper:\n",
    "            lower_hours, lower_gpa = upper, avg_gpa\n",
    "        elif study_hours < lower and upper_hours is None:\n",
    "            upper_hours, upper_gpa = lower, avg_gpa\n",
    "\n",
    "    if lower_gpa is None or upper_gpa is None:\n",
    "        return \"Study hours out of range.\"\n",
    "\n",
    "    # Linear interpolation\n",
    "    predicted_gpa = lower_gpa + (upper_gpa - lower_gpa) * ((study_hours - lower_hours) / (upper_hours - lower_hours))\n",
    "    return predicted_gpa\n",
    "\n",
    "# Main function for user input\n",
    "def main():\n",
    "    print(\"Welcome to the GPA Predictor!\")\n",
    "    try:\n",
    "        study_hours = float(input(\"Enter the number of study hours: \"))\n",
    "        predicted_gpa = predict_gpa(study_hours)\n",
    "        print(f\"Predicted GPA for {study_hours} study hours: {predicted_gpa:.2f}\" if isinstance(predicted_gpa, float) else predicted_gpa)\n",
    "    except ValueError:\n",
    "        print(\"Please enter a valid number for study hours.\")\n",
    "\n",
    "if __name__ == \"__main__\":\n",
    "    main()\n",
    "\n",
    "\n",
    "\n",
    "\n"
   ]
  }
 ],
 "metadata": {
  "kernelspec": {
   "display_name": "Python 3",
   "language": "python",
   "name": "python3"
  },
  "language_info": {
   "codemirror_mode": {
    "name": "ipython",
    "version": 3
   },
   "file_extension": ".py",
   "mimetype": "text/x-python",
   "name": "python",
   "nbconvert_exporter": "python",
   "pygments_lexer": "ipython3",
   "version": "3.12.3"
  }
 },
 "nbformat": 4,
 "nbformat_minor": 2
}
