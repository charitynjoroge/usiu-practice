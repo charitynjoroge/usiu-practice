{
 "cells": [
  {
   "cell_type": "code",
   "execution_count": 4,
   "metadata": {},
   "outputs": [
    {
     "name": "stdout",
     "output_type": "stream",
     "text": [
      "Chari\n",
      " Njoki Njoroge\n",
      "ty Njo\n",
      "egorojN ikojN ytirahC\n",
      "[0, 1, 2]\n",
      "[4, 5, 6, 7]\n",
      "[0, 2, 4, 6, 8]\n",
      "[9, 8, 7, 6, 5, 4, 3, 2, 1, 0]\n",
      "oge\n",
      "[5, 6, 7, 8, 9]\n"
     ]
    }
   ],
   "source": [
    "#string slicing\n",
    "\n",
    "a = \"Charity Njoki Njoroge\" # a string of my name \n",
    "B = a[:5] # a string of the first five characters of my name\n",
    "print(B) # prints the first five characters of my name \n",
    "\n",
    "C = a[7:] # a string of the characters of my name from the 7th index to the end\n",
    "print(C) # prints the characters of my name from the 7th  index to the end \n",
    "\n",
    "D = a[5:11] # a string of the characters of my name from the 5th index to the 10th index\n",
    "print(D) # prints the characters of my name from the 5th index to the 10th index (substrings)\n",
    "\n",
    "E = a[::-1] # a string of the characters of my name from the 22nd index to the 1st index in reverse order\n",
    "print(E) # prints the characters of my name from the 22nd index to the 1st index in reverse order\n",
    "\n",
    "# List Slicing\n",
    "numbers = [0, 1, 2, 3, 4, 5, 6, 7, 8, 9]\n",
    "\n",
    "F = numbers[:3] # a list of the first three numbers in the list\n",
    "print(F) # prints the first three numbers in the list\n",
    "\n",
    "G = numbers[4:8] # a list of the numbers from the 4th index to the 7th index in the list \n",
    "print(G) # prints the numbers from the 4th index to the 7th index in the list\n",
    "\n",
    "H = numbers[::2] # a list of every second element in the list\n",
    "print(H) # prints every second element in the list\n",
    "\n",
    "I = numbers[::-1] # a list of the numbers in the list in reverse order\n",
    "print(I) # prints the numbers in the list in reverse order\n",
    "\n",
    "# Negative Indexing\n",
    "J = a[-3:]  # Extract the last 3 characters of the string\n",
    "print(J)  # prints the last 3 characters of my name\n",
    "\n",
    "K = numbers[-5:]  # Extract the last 5 elements of the list\n",
    "print(K)  # prints the last 5 elements of the list\n"
   ]
  }
 ],
 "metadata": {
  "kernelspec": {
   "display_name": "Python 3",
   "language": "python",
   "name": "python3"
  },
  "language_info": {
   "codemirror_mode": {
    "name": "ipython",
    "version": 3
   },
   "file_extension": ".py",
   "mimetype": "text/x-python",
   "name": "python",
   "nbconvert_exporter": "python",
   "pygments_lexer": "ipython3",
   "version": "3.12.3"
  }
 },
 "nbformat": 4,
 "nbformat_minor": 2
}
