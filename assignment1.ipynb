{
 "cells": [
  {
   "cell_type": "code",
   "execution_count": 3,
   "metadata": {},
   "outputs": [
    {
     "name": "stdout",
     "output_type": "stream",
     "text": [
      "Hello, charity!\n",
      "Welcome, charity! we're happy you've decided to join us!\n",
      " 10 and 0\n",
      "The sum is 10\n",
      "The product is 0\n",
      "The difference is 10\n",
      "Division by zero is not allowed.\n",
      "The numbers you entered are: 5 8 3\n",
      "The average of the numbers is 5.333333333333333\n"
     ]
    }
   ],
   "source": [
    "#prompts user to input their name and greets them\n",
    "name = input(\"Enter your name: \")\n",
    "print(\"Hello, \" + name + \"!\")\n",
    "print(f\"Welcome, {name}! we're happy you've decided to join us!\")\n",
    "\n",
    "#prompts user to input two numbers and prints the numbers\n",
    "num1 = int(input(\"Enter the first number: \"))\n",
    "num2 = int(input(\"Enter the second number: \"))\n",
    "\n",
    "print(f\" {num1} and {num2}\")\n",
    "\n",
    "#declares the variables and prints the outcome of the sum, product, difference, and division of the two numbers \n",
    "\n",
    "total = num1 + num2\n",
    "print(f\"The sum is {total}\")\n",
    "\n",
    "product = num1 * num2\n",
    "print(f\"The product is {product}\")\n",
    "\n",
    "difference = num1 - num2\n",
    "print(f\"The difference is {difference}\")\n",
    "\n",
    "\n",
    "# Handle division by zero gracefully\n",
    "if num2 != 0:\n",
    "    division = num1 / num2\n",
    "    print(f\"The division is {division}\")\n",
    "else:\n",
    "    print(\"Division by zero is not allowed.\")\n",
    "\n",
    "\n",
    "# Prompt the user to input a list of numbers separated by spaces\n",
    "numbers = input(\"Enter a list of numbers separated by spaces: \")\n",
    "print(f\"The numbers you entered are: {numbers}\") \n",
    "\n",
    "# Convert the input string to a list of integers\n",
    "try:\n",
    "    numbers_list = list(map(int, numbers.split()))\n",
    "except ValueError:\n",
    "    print(\"Please enter only numbers separated by spaces.\")\n",
    "    exit()\n",
    "\n",
    "# Calculate the average of the numbers\n",
    "average = sum(numbers_list) / len(numbers_list)\n",
    "\n",
    "# Display the average\n",
    "print(f\"The average of the numbers is {average}\")\n",
    "\n"
   ]
  }
 ],
 "metadata": {
  "kernelspec": {
   "display_name": "Python 3",
   "language": "python",
   "name": "python3"
  },
  "language_info": {
   "codemirror_mode": {
    "name": "ipython",
    "version": 3
   },
   "file_extension": ".py",
   "mimetype": "text/x-python",
   "name": "python",
   "nbconvert_exporter": "python",
   "pygments_lexer": "ipython3",
   "version": "3.12.3"
  }
 },
 "nbformat": 4,
 "nbformat_minor": 2
}
