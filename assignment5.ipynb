{
 "cells": [
  {
   "cell_type": "code",
   "execution_count": null,
   "metadata": {},
   "outputs": [
    {
     "name": "stdout",
     "output_type": "stream",
     "text": [
      "('arnold', 'apple', 12, 'denis', 2.34)\n",
      "Second element: apple\n",
      "Fourth element: denis\n",
      "('arnold', 'apple', 12, 'denis', 2.34, 'twelve', 'banana', 31)\n",
      "('arnold', 'orange', 'apple', 12, 'denis', 2.34, 'twelve', 'banana', 31)\n",
      "Length of the tuple: 9\n",
      "Yes, 'apple' is in the tuple\n",
      "arnold orange apple 12 denis 2.34 twelve banana 31 \n",
      "(12.3,)\n",
      "<class 'tuple'>\n",
      "arnold\n",
      "orange\n",
      "apple\n",
      "[12, 'denis', 2.34, 'twelve', 'banana', 31]\n",
      "yellow\n",
      "First element: 1.32\n",
      "Last element: ('kiwi', 'yellow', 6)\n",
      "('arnold', 'apple', 12, 'denis', 2.34, 'arnold', 'apple', 12, 'denis', 2.34, 'arnold', 'apple', 12, 'denis', 2.34)\n",
      "('arnold', 12, 'denis', 2.34, 'arnold', 'apple', 12, 'denis', 2.34, 'arnold', 'apple', 12, 'denis', 2.34)\n"
     ]
    }
   ],
   "source": [
    "myTuple = ('arnold', 'apple', 12, 'denis', 2.34) # Creating a tuple\n",
    "print(myTuple) # Printing the entire tuple\n",
    "\n",
    "# Accessing and printing the second and fourth elements\n",
    "print(\"Second element:\", myTuple[1])\n",
    "print(\"Fourth element:\", myTuple[3])\n",
    "\n",
    "myTuple2 = ('twelve', 'banana', 31)\n",
    "myTuple3 = myTuple + myTuple2 # Concatenating two tuples\n",
    "print(myTuple3) # Printing the concatenated tuple\n",
    "\n",
    "x = list(myTuple3) # Converting the tuple to a list\n",
    "x.insert(1, 'orange') # Inserting a new element at index 1\n",
    "myTuple3 = tuple(x) # Converting the list back to a tuple\n",
    "print(myTuple3) # Printing the modified tuple\n",
    "print(\"Length of the tuple:\", len(myTuple3)) # Printing the length of the tuple\n",
    "\n",
    "#checking if an element is present in the tuple\n",
    "if 'apple' in myTuple3: # Checking if 'apple' is present in the tuple\n",
    "    print(\"Yes, 'apple' is in the tuple\")\n",
    "else:\n",
    "    print(\"No, 'apple' is not in the tuple\")\n",
    "\n",
    "# Iterating through the tuple\n",
    "for i in myTuple3:\n",
    "    print(i, end = ' ')\n",
    "print()\n",
    "\n",
    "#create a tuple with one element and print its type\n",
    "Tuple = (12.3,)\n",
    "print(Tuple)\n",
    "print(type(Tuple))\n",
    "\n",
    "#unpacking the first three elements of the updated tuple into variables and printing them\n",
    "a, b, c, *d = myTuple3 # Unpacking the first three elements\n",
    "print(a)\n",
    "print(b)\n",
    "print(c)\n",
    "print(d)\n",
    "\n",
    "#creating a nested tuple and accessing the elements from the inner tuple\n",
    "nestedTuple = (1.32, 2, 'kamau', ('kiwi', 'yellow', 6))\n",
    "print(nestedTuple[3][1])\n",
    "\n",
    "#Accessing and printing the first and last elements of the tuple\n",
    "print(\"First element:\", nestedTuple[0])\n",
    "print(\"Last element:\", nestedTuple[-1])\n",
    "\n",
    "#Creating a new tuple by repeating the original tuple 3 times\n",
    "newTuple = myTuple * 3\n",
    "print(newTuple)\n",
    "\n",
    "y = list(newTuple) # Converting the tuple to a list\n",
    "y.remove('apple') # Removing the element 'apple'\n",
    "newTuple = tuple(y) # Converting the list back to a tuple\n",
    "print(newTuple) # Printing the modified"
   ]
  }
 ],
 "metadata": {
  "kernelspec": {
   "display_name": "Python 3",
   "language": "python",
   "name": "python3"
  },
  "language_info": {
   "codemirror_mode": {
    "name": "ipython",
    "version": 3
   },
   "file_extension": ".py",
   "mimetype": "text/x-python",
   "name": "python",
   "nbconvert_exporter": "python",
   "pygments_lexer": "ipython3",
   "version": "3.12.3"
  }
 },
 "nbformat": 4,
 "nbformat_minor": 2
}
